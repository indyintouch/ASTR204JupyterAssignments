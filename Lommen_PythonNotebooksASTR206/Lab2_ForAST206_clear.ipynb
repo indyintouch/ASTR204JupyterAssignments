{
 "cells": [
  {
   "cell_type": "markdown",
   "metadata": {},
   "source": [
    "# Galaxies and the large-scale structure of the Universe, Part II\n",
    "\n",
    "_A continuation of python exercise notebook written by Rita Tojeiro, October 2017, for the Lab component of the AS1001 Cosmology module at the University of St Andrews, UK.  It was modified to stand alone in an SDSS EPO workshop at AAS in Jan 2018 and then significantly modified to emphasize programming skills rather than Astronomy data analysis by Andrea Lommen, Haverford College, January 2018. \n",
    "This notebook has benefited from examples provided by Britt Lundgren (University of North Carolina) and Jordan Raddick (John Hopkins University)_.\n",
    "\n",
    "In this Notebook, you will use data from the Sloan Digital Sky Survey (SDSS), to explore the relationship between galaxy properties and the large-scale structure of the Universe. \n",
    "\n",
    "In the end, you should have found an answer to the following questions:\n",
    "\n",
    "- How are galaxies spatially distributed in the Universe?\n",
    "- Are galaxies all the same colour?\n",
    "- Are galaxies all the same shape?\n",
    "- How are galaxies' colours and shapes related to their spacial distribution?\n",
    "\n",
    "In the previous lab you mastered:\n",
    "- if statements, Boolean operators, arithmetic operations, and mean/min as necessary.\n",
    "- the use of np.where.\n",
    "- Writing variables into strings.\n",
    "And you also used a SQL query to read in data. ('SQL' is pronounced just like \"sequel\" by the way.)\n",
    "\n",
    "In this lab you will master:\n",
    "\n",
    "- visualizing data by making plots and taking various \"slices\"\n",
    "- combined data structures (lists of lists), in this case it's the use of data frames in a library called \"pandas\". You actually used it last lab but didn't take advantage of it. I think of it like a table of data with rows and columns rather than a list of lists.\n",
    "\n",
    "The subjects you need to tackle in pre-class lectures in class discussions are:\n",
    "\n",
    "- How does looking at redshift \"slices\" help you study the universe?\n",
    "- Why are some galaxies bluer/redder than others?\n",
    "- Panda dataframes, and selecting subsections of the data using indexing and np.where\n"
   ]
  },
  {
   "cell_type": "markdown",
   "metadata": {},
   "source": [
    "### Imports\n",
    "\n",
    "Again, we import the necessary SciServer and support libraries. "
   ]
  },
  {
   "cell_type": "code",
   "execution_count": null,
   "metadata": {},
   "outputs": [],
   "source": [
    "# Import Python libraries to work with SciServer\n",
    "import SciServer.CasJobs as CasJobs # query with CasJobs\n",
    "import SciServer.SciDrive as SciDrive   # read/write to/from SciDrive\n",
    "import SciServer.SkyServer as SkyServer   # show individual objects and generate thumbnail images through SkyServer\n",
    "print('SciServer libraries imported')\n",
    "\n",
    "# Import other libraries for use in this notebook.\n",
    "import numpy as np                  # standard Python lib for math ops\n",
    "from scipy.misc import imsave       # save images as files\n",
    "import pandas as pd                     # data manipulation package\n",
    "import matplotlib.pyplot as plt     # another graphing package\n",
    "import os                           # manage local files in your Compute containers\n",
    "print('Supporting libraries imported')\n",
    "\n",
    "import astroML\n",
    "from astroML.datasets import fetch_sdss_spectrum\n",
    "from astropy.io import ascii\n",
    "\n",
    "# Apply some special settings to the imported libraries\n",
    "# ensure columns get written completely in notebook\n",
    "pd.set_option('display.max_colwidth', -1)\n",
    "# do *not* show python warnings \n",
    "import warnings\n",
    "warnings.filterwarnings('ignore')\n",
    "print('Settings applied')"
   ]
  },
  {
   "cell_type": "markdown",
   "metadata": {},
   "source": [
    "## Now that you've done some work with the output of a simple SQL query, we'll add some complexity\n",
    "When we performed the previous queries (in lab2) we SELECTed only one keyword (e.g. RA, dec, redshift) at a time. That wasn't actually using the query to its full potential or using python to its full potential. We can actually ask for a number of different variables at a time. You'll notice the \"SELECT\" option below asks for a dozen different things. To add to the complexity, not all of them are in the \"galaxy\" database, so we have to \"JOIN\" the galaxy database with another database called \"SpecObj\". If you're interested in JOINs I can give you more information, but it's not something I expect you to deal with."
   ]
  },
  {
   "cell_type": "code",
   "execution_count": null,
   "metadata": {},
   "outputs": [],
   "source": [
    "# Find objects in the Sloan Digital Sky Survey's Data Release 14.\n",
    "#\n",
    "# Query the Sloan Digital Sky Serveys' Data Release 14.\n",
    "# For the database schema and documentation see http://skyserver.sdss.org/dr14\n",
    "#\n",
    "# This query finds all galaxies with a size (petror90_r) greater than 10 arcseconds, within\n",
    "# a region of sky with 100 < RA < 250, a redshift between 0.02 and 0.5, and a g-band magnitude brighter than 17.\n",
    "# \n",
    "# First, store the query in an object called \"query\"\n",
    "query=\"\"\"\n",
    "SELECT p.objId,p.ra,p.dec,p.petror90_r, p.expAB_r,\n",
    "    p.dered_u as u, p.dered_g as g, p.dered_r as r, p.dered_i as i, \n",
    "    s.z, s.plate, s.mjd, s.fiberid\n",
    "FROM galaxy AS p\n",
    "   JOIN SpecObj AS s ON s.bestobjid = p.objid\n",
    "WHERE p.petror90_r > 10\n",
    "  and p.ra between 100 and 250\n",
    "  and s.z between 0.02 and 0.5\n",
    "  and p.g < 17\n",
    "\"\"\"\n",
    "#Then, query the database. The answer is a table that is being returned to a dataframe that we've named all_gals.\n",
    "all_gals = CasJobs.executeQuery(query, \"dr14\")\n",
    "\n",
    "print(\"SQL query finished.\")\n",
    "print(\"SQL query returned \" + str(len(all_gals))+ \" galaxies\")"
   ]
  },
  {
   "cell_type": "markdown",
   "metadata": {},
   "source": [
    "First, let's see what we ended up with. Execute the following command to see the first 10 rows of the table."
   ]
  },
  {
   "cell_type": "code",
   "execution_count": null,
   "metadata": {},
   "outputs": [],
   "source": [
    "all_gals[0:10]"
   ]
  },
  {
   "cell_type": "code",
   "execution_count": null,
   "metadata": {},
   "outputs": [],
   "source": [
    "#What's the difference between that (above) and this:\n",
    "all_gals.head()"
   ]
  },
  {
   "cell_type": "markdown",
   "metadata": {},
   "source": [
    "Answer (1 point): "
   ]
  },
  {
   "cell_type": "markdown",
   "metadata": {},
   "source": [
    "What you just saw above: a variable name 'all_gals' then a period then an attribute 'head()' is a pattern you will see a lot. "
   ]
  },
  {
   "cell_type": "markdown",
   "metadata": {},
   "source": [
    "Now that you've seen what the output of our fancy SQL query was, look back and match up what you got with what was in the SQL query.  Describe how the SELECT part of the query determined what the columns of the table would be. (Note that you may have to use the scroll bar to see all the columns.)"
   ]
  },
  {
   "cell_type": "markdown",
   "metadata": {},
   "source": [
    "Answer (1 point): "
   ]
  },
  {
   "cell_type": "markdown",
   "metadata": {},
   "source": [
    "The dataframe that is returned, which we named all_gals, holds the following quantities (in columns) for each galaxy:\n",
    "\n",
    "- ra = Right Ascencion coordinate in degrees\n",
    "- dec = Declination coordinate in degrees\n",
    "- petror90_r = Radius enclosing 90% of the pertrosian flux in arcseconds. I.e., size of the galaxy in the sky.\n",
    "- dered_u, dered_g, dered_r, dered_i, dered_z = Magnitudes in 5 optical filters, from the blue to the red, after subtracting the attenuation due to the Milky Way.\n",
    "- z = Redshift of the galaxy\n",
    "- plate = Plate number (SDSS used alluminium plates with drilled holes for positioning optical fibers).\n",
    "- mjd = Date of the observation\n",
    "- fiberid = Number of the fiber in a given plate. Plates have between 640 and 1000 fibers."
   ]
  },
  {
   "cell_type": "markdown",
   "metadata": {},
   "source": [
    "Let's practice manipulating this table.  If I only wanted to look at the columns u,g, and r there are two good ways to do this. (Notice in the first case that I can look at the columns in any order I want to. This is one of the things people love about these complex data structures. They do indeed present an extra layer of complexity, but you get some significant benefits, and this is one of them.)"
   ]
  },
  {
   "cell_type": "code",
   "execution_count": null,
   "metadata": {},
   "outputs": [],
   "source": [
    "all_gals[[\"r\",\"g\",\"u\"]][0:10]"
   ]
  },
  {
   "cell_type": "code",
   "execution_count": null,
   "metadata": {},
   "outputs": [],
   "source": [
    "all_gals.loc[0:9,'u':'r']  #This is called 'slicing' a table\n",
    "# Here you are using loc[] to ask for a subset of all_gals. You \n",
    "# asked for the rows from 0-9 and the columns from \"u\" to \"r\".\n",
    "# Also notice that \"loc\" is inclusive of the endpoints (it includes\n",
    "# row labeled by 9, whereas the previous command doesn't include\n",
    "# the endpoint')"
   ]
  },
  {
   "cell_type": "markdown",
   "metadata": {},
   "source": [
    "Your turn!  Show only the first 7 rows and only the columns from \"i\" to \"fiberid\"."
   ]
  },
  {
   "cell_type": "code",
   "execution_count": null,
   "metadata": {},
   "outputs": [],
   "source": [
    "#Answer: (2 points)"
   ]
  },
  {
   "cell_type": "markdown",
   "metadata": {},
   "source": [
    "A lot of your work in this lab will be done on an entire column.\n",
    "There are various ways to select a column to work with. Here are three examples using the \"ra\" column.\n",
    "* all_gals[\"ra\"] \n",
    "* all_gals.loc[ : ,\"ra\"]\n",
    "* all_gals.loc[\"ra\"]\n",
    "\n",
    "The \":\" without anything on either side of it tells it to just use all the rows."
   ]
  },
  {
   "cell_type": "markdown",
   "metadata": {},
   "source": [
    "What you've been doing here (besides practicing manipulating arrays) is getting to know the data you've read in. Anytime you read in a bunch of data it's a really good idea to get a sense of what the data look like, and whether it looks reasonable. For example, are the columns really as described above?  Or for example did the plate numbers actually get put in the MJD column, because we made some mistake reading it in? We should confirm the data was read in correctly before doing fancy things with the data (which we will eventually do!) \n",
    "\n"
   ]
  },
  {
   "cell_type": "markdown",
   "metadata": {},
   "source": [
    "## The large scale structure of the Universe "
   ]
  },
  {
   "cell_type": "markdown",
   "metadata": {},
   "source": [
    "### Exercise:\n",
    "\n",
    "1. Plot the positions of all galaxies usint plt.scatter(). Remember to add labels and a title to your plot. Given the large number of points, you might want to use marker='.' and s=1 (those are options in plt.scatter - you just put them inside the parenthesis separated with commas.\n",
    "\n",
    "2. What can you tell from the distribution of galaxies? Are they uniformly distributed on the sky?"
   ]
  },
  {
   "cell_type": "code",
   "execution_count": null,
   "metadata": {},
   "outputs": [],
   "source": [
    "#Answer (4 points)"
   ]
  },
  {
   "cell_type": "markdown",
   "metadata": {},
   "source": [
    "Answer: (1 point)"
   ]
  },
  {
   "cell_type": "markdown",
   "metadata": {},
   "source": [
    "### Exercise: \n",
    "\n",
    "Using the np.where() command, select galaxies in two narrow redshift slices:\n",
    "- slice 1: 0.02 < z < 0.03 (green)\n",
    "- slice 2: 0.03 < z < 0.04 (orange)\n",
    "\n",
    "Make the same plot as above, but only using the galaxies in each slice using the suggested colour scheme (make one plot for each slice). Finally, make a third plot with galaxies from both redshift slices. Add axis labels, a title and an legend to each plot.\n"
   ]
  },
  {
   "cell_type": "code",
   "execution_count": null,
   "metadata": {},
   "outputs": [],
   "source": [
    "#Solution slice1 (4 points)"
   ]
  },
  {
   "cell_type": "code",
   "execution_count": null,
   "metadata": {},
   "outputs": [],
   "source": [
    "# Solution slice2 (4 points)"
   ]
  },
  {
   "cell_type": "code",
   "execution_count": null,
   "metadata": {},
   "outputs": [],
   "source": [
    "# Solution both slice1 and slice2 (4 points)"
   ]
  },
  {
   "cell_type": "markdown",
   "metadata": {},
   "source": [
    "### Exercise:\n",
    "\n",
    "Do you see more structure in the distribution of galaxies in each slice, when compared to your first plot that included all galaxies? \n",
    "\n",
    "What can you tell about the structure you see in the two different redshift slices?\n",
    "\n",
    "Why couldn't you see it in your first plot?"
   ]
  },
  {
   "cell_type": "markdown",
   "metadata": {},
   "source": [
    "Answer (2 points):\n"
   ]
  },
  {
   "cell_type": "markdown",
   "metadata": {},
   "source": [
    "## Galaxy colours\n",
    "\n",
    "You will see in lectures that the optical colours of galaxies are related to the age of their stars - red galaxies hold older stars, whereas blue galaxies tend to have younger stars. In practice, we can quantify \"colour\" in Astronomy as _the difference in magnitude in two different bands_.\n",
    "\n",
    "In this set of exercises **we will focus on the first slice in redshift** (call it sl, which is very narrow, meaning that all galaxies have a similar redshift. I.e., if galaxies in this redshift slice have different colours, it ought to be because their spectra and stellar composition are different, and not because some are redshifted due to the expansion of the Universe. \n",
    "\n",
    "Plot a histogram of u-g color (really just column \"u\" minus column \"g\") of the galaxies in the slice  0.02 < z < 0.03. Don't forget to label your axes and title your plot!\n"
   ]
  },
  {
   "cell_type": "code",
   "execution_count": null,
   "metadata": {},
   "outputs": [],
   "source": [
    "# Answer (4 points)"
   ]
  },
  {
   "cell_type": "markdown",
   "metadata": {},
   "source": [
    "**np.percentile()** (https://docs.scipy.org/doc/numpy-dev/reference/generated/numpy.percentile.html) allows you to quickly return the percentile of a distribution of points. For example, to find the median (50th percentile) u-g colour of your galaxy population you can write:"
   ]
  },
  {
   "cell_type": "code",
   "execution_count": null,
   "metadata": {},
   "outputs": [],
   "source": [
    "median_umg = np.percentile(all_gals.loc[slice1]['u']-all_gals.loc[slice1]['g'], 50)\n",
    "print(median_umg)"
   ]
  },
  {
   "cell_type": "markdown",
   "metadata": {},
   "source": [
    "i.e., 50% of the galaxies in your sample have u-g colours that are lower than median_umg (i.e., they are bluer than the median), and 50% have  colours that are larger (i.e., they are redder than the median). If I wanted to choose only the 10% reddest galaxies I could do:"
   ]
  },
  {
   "cell_type": "code",
   "execution_count": null,
   "metadata": {},
   "outputs": [],
   "source": [
    "high_umg = np.percentile(all_gals.loc[slice1]['u']-all_gals.loc[slice1]['g'], 90)\n",
    "\n",
    "very_red_galaxies = np.where((all_gals['z'] > 0.02) & (all_gals['z'] < 0.03) & \n",
    "                                (all_gals['u']-all_gals['g'] > high_umg))"
   ]
  },
  {
   "cell_type": "markdown",
   "metadata": {},
   "source": [
    "### Exercise:\n",
    "\n",
    "Use np.percentile() to choose the 25% reddest and 25% bluest galaxies in u-g. Then plot their positions on the sky. Do both types of galaxies trace the large-scale structure in a similar way? What can you say about which galaxies preferentially sit on denser parts of the Universe, and which sit on less dense regions? For this exercise it is recommended that you make two plots (one for the red galaxies, and one for the blue), but that you put them side by side to help you compare.\n"
   ]
  },
  {
   "cell_type": "code",
   "execution_count": null,
   "metadata": {},
   "outputs": [],
   "source": [
    "# 8 points total for all of this\n",
    "#Answer "
   ]
  },
  {
   "cell_type": "markdown",
   "metadata": {},
   "source": [
    "By now you will have started developing an understanding of how galaxies in general are spacially distributed in the Universe and the shape of the cosmic web, and how galaxies' position on the cosmic web and their environment is related to their colour. Next, we will look at the **shape** of galaxies."
   ]
  },
  {
   "cell_type": "markdown",
   "metadata": {},
   "source": [
    "## Galaxy morphology\n",
    "\n",
    "Galaxy morphology studies the shapes of galaxies. \n",
    "\n",
    "Here, we do a more systematic exploration of how galaxy shapes are related to other properties.\n",
    "\n",
    "The next cell provides a bit of code that selects 16 **random** galaxies from your dataframe, and shows you their optical images. "
   ]
  },
  {
   "cell_type": "code",
   "execution_count": null,
   "metadata": {},
   "outputs": [],
   "source": [
    "#plot a random subset of 16 galaxies\n",
    "# set thumbnail parameters\n",
    "width=200           # image width\n",
    "height=200          # height\n",
    "pixelsize=0.396     # image scale\n",
    "plt.figure(figsize=(15, 15))   # display in a 4x4 grid\n",
    "subPlotNum = 1\n",
    "\n",
    "#let's do any pre-selection of the galaxies here.\n",
    "#In this case, let us only look at the galaxies in a thin redshift slice\n",
    "my_galaxies = np.where( (all_gals['z'] > 0.02) & (all_gals['z'] < 0.03))[0]\n",
    "\n",
    "i = 0\n",
    "nGalaxies = 16 #Total number of galaxies to plot\n",
    "ind = np.random.randint(0,len(my_galaxies), nGalaxies) #randomly selected rows\n",
    "count=0\n",
    "for i in ind:           # iterate through the randomly selected rows in the DataFrame\n",
    "    count=count+1\n",
    "    print('Getting image '+str(count)+' of '+str(nGalaxies)+'...')\n",
    "    if (count == nGalaxies):\n",
    "        print('Plotting images...')\n",
    "    # This appears to set the scale of the images it gets\n",
    "    scale=2*all_gals.loc[i]['petror90_r']/pixelsize/width\n",
    "    img = SkyServer.getJpegImgCutout(ra=all_gals.loc[my_galaxies[i]]['ra'], dec=all_gals.loc[my_galaxies[i]]['dec'], width=width, height=height, scale=scale,dataRelease='DR14')\n",
    "    plt.subplot(4,4,subPlotNum) # Figures out where to put the new plot\n",
    "    subPlotNum += 1\n",
    "    plt.imshow(img)                               # show images in grid\n",
    "    plt.title(all_gals.loc[my_galaxies[i]]['z'])  # Adds a title!   "
   ]
  },
  {
   "cell_type": "markdown",
   "metadata": {},
   "source": [
    "### Exercise:\n",
    "Compute the fraction of galaxies you'd classify as having disks, and the fraction of galaxies you'd classify as being smooth ellipsoids. If you want to improve your statistics, you can rerun the cell above and you will get 16 different galaxies every time..."
   ]
  },
  {
   "cell_type": "markdown",
   "metadata": {},
   "source": [
    "Answer: (1 point)"
   ]
  },
  {
   "cell_type": "markdown",
   "metadata": {},
   "source": [
    "### Exercise:\n",
    "Now using the code from the example above, do the same thing but taking 16 random galaxies that are **red**, according to your earlier definition of red and blue. Once again, classify the galaxies as disks or ellipticals. **Note, to change the color, you only need to change the line that defines my_galaxies.**  In addition, comment any line of code that doesn't have a comment on it. The comment should explain what that line is for."
   ]
  },
  {
   "cell_type": "code",
   "execution_count": null,
   "metadata": {},
   "outputs": [],
   "source": [
    "# Answer. 7 points total"
   ]
  },
  {
   "cell_type": "markdown",
   "metadata": {},
   "source": [
    "Answer: (1 point)"
   ]
  },
  {
   "cell_type": "markdown",
   "metadata": {},
   "source": [
    "### Exercise 9:\n",
    "\n",
    "Repeat the above exercise, now with blue galaxies. Repeat your classification exercise."
   ]
  },
  {
   "cell_type": "code",
   "execution_count": null,
   "metadata": {
    "scrolled": false
   },
   "outputs": [],
   "source": [
    "#Answer\n",
    "(7 points just like above)\n"
   ]
  },
  {
   "cell_type": "markdown",
   "metadata": {},
   "source": [
    "### Exercise:\n",
    "\n",
    "From the above exercise, what can you say - if anything - about the relationship between colour and morphology?"
   ]
  },
  {
   "cell_type": "markdown",
   "metadata": {},
   "source": [
    "Answer: (2 points) "
   ]
  },
  {
   "cell_type": "markdown",
   "metadata": {},
   "source": [
    "## Morphology and environment\n",
    "\n",
    "Finally, we will explore the **relationship between morphology and environment**. It is extraordinarily difficult to write a computer programme that determines whether a galaxy has spiral structure or is smooth. To this day, the human eye does better than the most sophisticated algorithms (the reason behind projects such as Galaxy Zoo - https://www.galaxyzoo.org). We will use a very simple proxy for morphology, which is good enough for our purposes: the sersic index. The sersic index tells us how rapidly the light profile of a galaxy is falling from the center, and essentially classifies galaxies' light profiles as being very centrally concentrated (like ellipticals), or as being flatter (like spirals). \n",
    "\n",
    "The cell below repeats our initial SQL query, but now it also returns the sersic profile, called sersic_n, and we are already limiting the redshift range to be between 0.02 and 0.03."
   ]
  },
  {
   "cell_type": "code",
   "execution_count": null,
   "metadata": {},
   "outputs": [],
   "source": [
    "query=\"\"\"\n",
    "SELECT p.objId, p.ra,p.dec,p.petror90_r, p.expAB_r,\n",
    "    p.dered_u as u, p.dered_g as g, p.dered_r as r, p.dered_i as i, \n",
    "    s.z, s.plate, s.mjd, s.fiberid, n.sersic_n\n",
    "FROM galaxy AS p\n",
    "   JOIN SpecObj AS s ON s.bestobjid = p.objid\n",
    "   JOIN nsatlas AS n ON n.mjd = s.mjd and n.fiberID = s.fiberID and n.plate = s.plate\n",
    "WHERE p.petror90_r > 10\n",
    "  and p.ra between 100 and 250\n",
    "  and s.z between 0.02 and 0.03\n",
    "  and p.g < 17\n",
    "\"\"\"\n",
    "all_gals = CasJobs.executeQuery(query, \"dr14\")\n",
    "print(\" Query returns \" + str(len(all_gals))+ \" galaxies\")"
   ]
  },
  {
   "cell_type": "markdown",
   "metadata": {},
   "source": [
    "Make a histogram of the values of the sersic index in your sample. Label your histogram with axes and a title. Make sure the number of bins is reasonable."
   ]
  },
  {
   "cell_type": "code",
   "execution_count": null,
   "metadata": {},
   "outputs": [],
   "source": [
    "# Answer  (4 points)"
   ]
  },
  {
   "cell_type": "markdown",
   "metadata": {},
   "source": [
    "### Exercise:\n",
    "\n",
    "Look at the morphologies of high and low sersic index galaxies, like you did for blue and red. In other words, make a set of 16 plots of high sersic index galaxies, and then a set of 16 plots of low sersic index galaxies. Let us test that idea that galaxies with a very high sersic index (n > 4) are ellipticals , and those with a very low sersic index (n < 2) are spirals. After you've looked at both those sets of plots (you should show them all below) answer this question: In your opinion, how good is this number at identifying morphology?"
   ]
  },
  {
   "cell_type": "code",
   "execution_count": null,
   "metadata": {},
   "outputs": [],
   "source": [
    "# Answer (to plotting the ellipticals, 4 points)\n"
   ]
  },
  {
   "cell_type": "code",
   "execution_count": null,
   "metadata": {},
   "outputs": [],
   "source": [
    "# Answer (to plotting spirals)\n",
    "#plot a random subset of 16 SPIRALS (4 points)"
   ]
  },
  {
   "cell_type": "markdown",
   "metadata": {},
   "source": [
    "Answer: (1 point)  "
   ]
  },
  {
   "cell_type": "markdown",
   "metadata": {},
   "source": [
    "Write a summary (4-6 sentences) of the gains you made in your astronomical knowledge doing this lab. "
   ]
  },
  {
   "cell_type": "markdown",
   "metadata": {},
   "source": [
    "Answer: (3 points) "
   ]
  },
  {
   "cell_type": "markdown",
   "metadata": {},
   "source": [
    "Write a summary (4-6 sentences) of the gains you made in your programming skills while doing this lab."
   ]
  },
  {
   "cell_type": "markdown",
   "metadata": {},
   "source": [
    "Answer: (3 points) "
   ]
  },
  {
   "cell_type": "markdown",
   "metadata": {},
   "source": [
    "**Congratulations, that is the end of the Lab!** Make sure you've **run all the code cells, filled in all the text answers and that your plots are all showing without error**. "
   ]
  },
  {
   "cell_type": "code",
   "execution_count": null,
   "metadata": {},
   "outputs": [],
   "source": []
  }
 ],
 "metadata": {
  "kernelspec": {
   "display_name": "Python 3",
   "language": "python",
   "name": "python3"
  },
  "language_info": {
   "codemirror_mode": {
    "name": "ipython",
    "version": 3
   },
   "file_extension": ".py",
   "mimetype": "text/x-python",
   "name": "python",
   "nbconvert_exporter": "python",
   "pygments_lexer": "ipython3",
   "version": "3.5.2"
  }
 },
 "nbformat": 4,
 "nbformat_minor": 1
}
