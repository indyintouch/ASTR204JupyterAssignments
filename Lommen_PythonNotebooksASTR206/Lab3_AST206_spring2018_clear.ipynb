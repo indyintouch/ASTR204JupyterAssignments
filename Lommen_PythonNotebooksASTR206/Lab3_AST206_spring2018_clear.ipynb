{
 "cells": [
  {
   "cell_type": "markdown",
   "metadata": {},
   "source": [
    "# Lab 3: Using Supernovae Data to Demonstrate the Universe is Accelerating\n",
    "Written by Andrea Lommen, Haverford College, March, 2018,\n",
    "with gratitude to Nobel Laureate Adam Riess for sharing his data."
   ]
  },
  {
   "cell_type": "markdown",
   "metadata": {},
   "source": [
    "## Goals of this lab\n",
    "\n",
    "You will:\n",
    "\n",
    "* Use Nobel Award winning supernovae data to demonstrate that the universe is not only expanding, but accelerating.\n",
    "* Fit a curve to data.\n",
    "* Use residuals to judge how good a model fit is.\n",
    "* Use approximations, and determine under what conditions they are true.\n",
    "* Practice using read_csv again, setting the delimeter, renaming columns.\n",
    "* be forced to be efficient in your code."
   ]
  },
  {
   "cell_type": "markdown",
   "metadata": {},
   "source": [
    "The data table found in /homes/astro/PHY104 is called\n",
    "full_list6intmag.origsnls.zp.tex\n",
    "and is from this manuscript, from which you should read the abstract, the introduction, and the text around the table we are using (Table 4) which includes\n",
    "http://adsabs.harvard.edu/abs/2007ApJ...659...98R\n",
    "\n",
    "Adam Riess and his collaborators won the Nobel Prize for this work. \n",
    "\n",
    "Watch his 27-minute Nobel lecture here:\n",
    "https://www.nobelprize.org/nobel_prizes/physics/laureates/2011/riess-lecture.html"
   ]
  },
  {
   "cell_type": "code",
   "execution_count": null,
   "metadata": {},
   "outputs": [],
   "source": [
    "# Read in Adam's table into an object called \"allSN\", i.e.\n",
    "# allSN = pd.read_csv(.....)\n",
    "# I've imported the libraries you need.  Here are my hints about\n",
    "# using the pd.read_csv function.\n",
    "# The file is called \n",
    "# \"/homes/astro/PHY104/full_list6intmag.origsnls.zp.tex\"\n",
    "# You need to set delimiter equal to something \n",
    "# (delimeter = \"?\") to get this to work.  \n",
    "# Take a look at the file itself to see what character\n",
    "# you should use as the delimeter.\n",
    "# Finally, you need header=None in your list of what you pass\n",
    "# to read_csv because this file has no header.\n",
    "# Putting that all together, your read statement will look kinda\n",
    "# like this:\n",
    "# allSN = pd.read_csv(\"filename.blah.blah.blah\", \n",
    "#                delimiter='?', header=None)\n",
    "import pandas as pd\n",
    "import numpy as np\n",
    "import matplotlib.pyplot as plt"
   ]
  },
  {
   "cell_type": "code",
   "execution_count": null,
   "metadata": {},
   "outputs": [],
   "source": [
    "# 2 points to read in the table"
   ]
  },
  {
   "cell_type": "code",
   "execution_count": null,
   "metadata": {},
   "outputs": [],
   "source": [
    "# See what the table looks like! (1 point)"
   ]
  },
  {
   "cell_type": "markdown",
   "metadata": {},
   "source": [
    "Let's take full advantage of the pandas table format by naming the columns appopriately.  The columns are name, redshift, mu, sigma, dots, and survey. Rename them and then display the table again."
   ]
  },
  {
   "cell_type": "code",
   "execution_count": null,
   "metadata": {},
   "outputs": [],
   "source": [
    "# Rename them \"name\", \"redshift\", \"mu\", \"sigma\", \"dots\", \"survey\"\n",
    "# The syntax for this is just \n",
    "# allSN.columns = ['onecolumn', 'another column', 'etc']\n",
    "# (2 points)"
   ]
  },
  {
   "cell_type": "markdown",
   "metadata": {},
   "source": [
    "Note that all plots must have axis labels that include both the name of the variable being plotted and its units.  Redshift and distance modulus are weird because they're unitless, so no units are necessary for those two. I've put restrictions on the number of lines of code in each cell and you will receive a deduction for each extra line of code.  This does not include documentation."
   ]
  },
  {
   "cell_type": "markdown",
   "metadata": {},
   "source": [
    "First plot distance modulus ($\\mu$) on the vertical axis, and redshift on the horizontal axis. Your plot should look like Figure 6 from the Riess et al paper! (A nice check.)  _Note, you only need 3 lines of code to do this, including the 2 lines to label the axis!  No need to convert anything to numpy arrays.  Just plot the columns versus each other! Neither distance modulus nor redshift has units._"
   ]
  },
  {
   "cell_type": "code",
   "execution_count": null,
   "metadata": {},
   "outputs": [],
   "source": [
    "# (2 points)"
   ]
  },
  {
   "cell_type": "markdown",
   "metadata": {},
   "source": [
    "Okay so that's totally fun (to be able to reproduce a plot from a Nobel prize winning paper!). Now get distance from distance modulus.\n",
    "\n",
    "Convert your answer to Mpc. This should take at most 2 lines of code."
   ]
  },
  {
   "cell_type": "code",
   "execution_count": null,
   "metadata": {},
   "outputs": [],
   "source": [
    "# (2 points)"
   ]
  },
  {
   "cell_type": "markdown",
   "metadata": {},
   "source": [
    "Now plot redshift vs distance.  Again you only need 3 lines of code including the two lines to label the axes."
   ]
  },
  {
   "cell_type": "code",
   "execution_count": null,
   "metadata": {},
   "outputs": [],
   "source": [
    "#(2 points)\n"
   ]
  },
  {
   "cell_type": "markdown",
   "metadata": {},
   "source": [
    "Is this what you expect?  (write a few lines to answer that question)"
   ]
  },
  {
   "cell_type": "markdown",
   "metadata": {},
   "source": [
    " (2 points)"
   ]
  },
  {
   "cell_type": "markdown",
   "metadata": {},
   "source": [
    "Now fit for Hubble's constant using these data. Using np.polyfit, fit a line (otherwise known as a 1st order polynomial) to the data. Let \"p\" be the name of the array in which you store what polyfit returns.  So \"p = np.polyfit(.....\".  (This is only one line of code.)"
   ]
  },
  {
   "cell_type": "code",
   "execution_count": null,
   "metadata": {},
   "outputs": [],
   "source": [
    "# (1 point)\n"
   ]
  },
  {
   "cell_type": "code",
   "execution_count": null,
   "metadata": {},
   "outputs": [],
   "source": [
    "# Show the fitted parameters here\n",
    "# (1 point)"
   ]
  },
  {
   "cell_type": "markdown",
   "metadata": {},
   "source": [
    "You really have no right to expect that that worked until you assess how well it worked.  So plot the fitted line on top of the data.\n",
    "\n",
    "Some hints:\n",
    "\n",
    "y = mx+b   <- that's the equation for a line most of us were taught at some point\n",
    "\n",
    "The way np.polyfit does it\n",
    "p[0] is the \"m\" and p[1] is the \"b\". redshift is the \"x\".\n",
    "\n",
    "This should be 5 lines of code, including the two axis labels."
   ]
  },
  {
   "cell_type": "code",
   "execution_count": null,
   "metadata": {},
   "outputs": [],
   "source": [
    "# (4 points)\n"
   ]
  },
  {
   "cell_type": "markdown",
   "metadata": {},
   "source": [
    "Hubble's constant is known well.  It's about 72 km/s per Mpc.  Is that what you got?  Ack!!  I don't know!\n",
    "_The slope of your graph is currently in Mpc per redshift._\n",
    "So we need to get km/s on the vertical axis, and Mpc on the horizontal axis, then the slope of your line should be Hubble's\n",
    "constant.  "
   ]
  },
  {
   "cell_type": "markdown",
   "metadata": {},
   "source": [
    "## Relativistic relationship between velocity and redshift\n",
    " ($v = zc$) only works at relatively low velocities (low compared the speed of light.)  Notice that at redshift of $z=2$ using our formula $v = zc$ that the velocity is twice the speed of light.  This is in fact impossible, since nothing travels faster than the speed of light.  That is our big clue that we need an adjustment. Thankfully, Einstein figured out what the correct function was 100 years ago:  \n",
    "\n",
    "Here's the precise formula (without the approximation):\n",
    "\n",
    "$$\n",
    "z = \\sqrt{\\frac{1+v/c}{1 - v/c}} -1\n",
    "$$\n",
    "\n",
    "Solve that for $v$ and put the answer here:<br>\n",
    "(1 point)"
   ]
  },
  {
   "cell_type": "markdown",
   "metadata": {},
   "source": [
    "* Write a function getv(z) which will return $v$ for any value of z we pass it. "
   ]
  },
  {
   "cell_type": "code",
   "execution_count": null,
   "metadata": {},
   "outputs": [],
   "source": [
    "#(3 points)\n"
   ]
  },
  {
   "cell_type": "markdown",
   "metadata": {},
   "source": [
    "Before we go using our function willy nilly we should check that it is correct. One way to check it is to show that for very large z (10 or more) the velocity getv returns is close to the speed of light. Do that below by creating an array of z's, call it _zarray_, from 0 to 10 increasing by an interval of 0.1.  Plot v vs zarray with axes labeled.  Do this with no loops, and no more than 4 lines of code (not including documentation). _Hint: Don't forget you can call your function on a whole array. Another hint: Here are the 4 lines: (1) define zarray, (2) plt.plot (3) plt.xlabel (4) plt.ylabel"
   ]
  },
  {
   "cell_type": "code",
   "execution_count": null,
   "metadata": {},
   "outputs": [],
   "source": [
    "#(3 points)"
   ]
  },
  {
   "cell_type": "markdown",
   "metadata": {},
   "source": [
    "Explain what your graph shows."
   ]
  },
  {
   "cell_type": "markdown",
   "metadata": {},
   "source": [
    "(1 point)"
   ]
  },
  {
   "cell_type": "markdown",
   "metadata": {},
   "source": [
    "We should also check whether it returns the expected value for small $z$.  In other words, we expect that for small $z$ our old relationship $v = cz$ still holds.\n",
    "\n",
    "Reproduce the same plot as above, but add a line corresponding to $v=cz$. Make sure your new plot maintains the same axes limits as the previous one. This should add at most three lines of code to the above (one for the new plt.plot, two to set plt.xlim and plt.ylim)."
   ]
  },
  {
   "cell_type": "code",
   "execution_count": null,
   "metadata": {},
   "outputs": [],
   "source": [
    "#  5 points"
   ]
  },
  {
   "cell_type": "markdown",
   "metadata": {},
   "source": [
    "Based on the graph above, for how high a velocity does $v=zc$ hold true? What fraction of the speed of light is that?\n"
   ]
  },
  {
   "cell_type": "markdown",
   "metadata": {},
   "source": [
    " (2 points) "
   ]
  },
  {
   "cell_type": "markdown",
   "metadata": {},
   "source": [
    "Now that we've figured out how to get distance, let's go back to figuring out Hubble's constant.  Hubble's \"constant\" is in km/s per Mpc, so we want km/s on the vertical axis, and Mpc on the horizontal axis.  That way the slope of our graph will be Hubble's constant.\n",
    "\n",
    "Make this plot using your function getv to get the velocities.  Please call velocity \"velocity\".  _Hint:  This is only 4 lines of code, including 2 lines to label your axes._\n"
   ]
  },
  {
   "cell_type": "code",
   "execution_count": null,
   "metadata": {},
   "outputs": [],
   "source": [
    "# (3 points)"
   ]
  },
  {
   "cell_type": "markdown",
   "metadata": {},
   "source": [
    "Describe how you can already see Hubble's constant decreasing as you look at farther away supernovae."
   ]
  },
  {
   "cell_type": "markdown",
   "metadata": {},
   "source": [
    "(1 point) "
   ]
  },
  {
   "cell_type": "markdown",
   "metadata": {},
   "source": [
    "Fit a line to these data, and see what its slope is.  The slope should be a reasonable guess at Hubble's constant. (The Hubble's constant we get this way will be too small, for the reason you described just above.)  Use np.polyfit with a \"1\" for its last argument to indicate a first order polynomial.  Set \"p\" (for parameters\") equal to your np.polyfit call, and then show what p is. This is 2 lines of code."
   ]
  },
  {
   "cell_type": "code",
   "execution_count": null,
   "metadata": {},
   "outputs": [],
   "source": [
    "#  (2 points)"
   ]
  },
  {
   "cell_type": "markdown",
   "metadata": {},
   "source": [
    "Comment here on whether your value of H is in the right ballpark, and also say what units your H is in. "
   ]
  },
  {
   "cell_type": "markdown",
   "metadata": {},
   "source": [
    " (1 point)  "
   ]
  },
  {
   "cell_type": "markdown",
   "metadata": {},
   "source": [
    "## Overplotting the fit\n",
    "In order to see if the fit turned out right, we should plot it over the top of our data points.  Do that here using the parameters \"p\" and the notes from class on polynomials.  Please call the fitted velocity \"fitted_velocity.\" _Hint: This should only take 5 lines of code including the 2 for labeling the axes."
   ]
  },
  {
   "cell_type": "code",
   "execution_count": null,
   "metadata": {},
   "outputs": [],
   "source": [
    "#(4 points)"
   ]
  },
  {
   "cell_type": "markdown",
   "metadata": {},
   "source": [
    "If you did this \"right\" you'll notice the line doesn't fit very well.  It does follow the general trend, but the data kinda snake around it.  Let's try some more experimentation with this idea that perhaps Hubble's \"constant\" is changing."
   ]
  },
  {
   "cell_type": "markdown",
   "metadata": {},
   "source": [
    "What Hubble's 'constant' do you get for the closer data (d < 6000 Mpc) and the farther data (d > 6000 Mpc)  _Hint: Based on Adam's lecture where would you expect to find the largest value of Hubble's 'constant?'  Also, I used np.where to do this, and apparently np.where needs np.arrays, so convert both d and velocity to np.arrays. Please convert them \"in place\" so they are still called\n",
    "\"d\" and \"velocity\"._ \n"
   ]
  },
  {
   "cell_type": "code",
   "execution_count": null,
   "metadata": {},
   "outputs": [],
   "source": [
    "# Put the nearer half code in this cell (4 points)\n",
    "# No more than 12 lines of code here."
   ]
  },
  {
   "cell_type": "code",
   "execution_count": null,
   "metadata": {},
   "outputs": [],
   "source": [
    "# Put the Distant half code here (4 points)\n",
    "# No more than 10 lines of code (because you already converted\n",
    "# d and velocity into np.arrays)"
   ]
  },
  {
   "cell_type": "markdown",
   "metadata": {},
   "source": [
    "Summarize what you learned from the two plots above. What were your two values of the Hubble constant from the two plots.  Be sure to quote units on your answers."
   ]
  },
  {
   "cell_type": "markdown",
   "metadata": {},
   "source": [
    " (3 points)"
   ]
  },
  {
   "cell_type": "markdown",
   "metadata": {},
   "source": [
    "# Did you notice that our line is doing a pretty bad job of modeling the data? \n",
    "\n",
    "One way to determine that is to plot the \"residuals\" of the fit.  \"Residuals\" are a fancy word for the difference between the model and the data. \n",
    "\n",
    "Plot the residuals resulting from fitting a line to the entire data set.\n",
    "\n",
    "_Hint: because you have already plotted the fitted line (at the top of the section called \"Overplotting the fit\"), you only at most one more line of code to plot the residuals. So take your 5 lines of code from there and add no more than one line. The residuals are the original velocities minus the fitted velocities._\n",
    "\n",
    "_Hint2: The y-axis should be labeled \"residual velocity (km/sec)\"_\n"
   ]
  },
  {
   "cell_type": "code",
   "execution_count": null,
   "metadata": {},
   "outputs": [],
   "source": [
    "#  (4 points)"
   ]
  },
  {
   "cell_type": "markdown",
   "metadata": {},
   "source": [
    "If you've done this right, you should see residual velocities that run from about -60,000 km/sec to 60,000 km/sec.  Why are some of them negative?  "
   ]
  },
  {
   "cell_type": "markdown",
   "metadata": {},
   "source": [
    " (1 point)"
   ]
  },
  {
   "cell_type": "markdown",
   "metadata": {},
   "source": [
    "What would you expect this residual plot to look like if the line fit the data well?"
   ]
  },
  {
   "cell_type": "markdown",
   "metadata": {},
   "source": [
    " (1 point)"
   ]
  },
  {
   "cell_type": "markdown",
   "metadata": {},
   "source": [
    "It looks like we need some sort of curved function. What we can do is use a 2nd or 3rd order polynomial instead of just a 1st order.\n",
    "Yes, and then the derivative of the polynomial at everypoint is Hubble's constant.  That's pretty fun!  \n",
    "\n",
    "So now, going back to the whole data set, fit the whole data set to a 2nd order polynomial (by changing one number in the call to polyfit).  Also plot the fitted curve as you did before. \n",
    "\n",
    "Hint: This should require 2 changes to your previous code, and zero additional lines of code. The most significant adjustment will be in the calculation of \"fitted\\_velocity.\" No more than 6 lines of code here."
   ]
  },
  {
   "cell_type": "code",
   "execution_count": null,
   "metadata": {},
   "outputs": [],
   "source": [
    "# (5 points)"
   ]
  },
  {
   "cell_type": "markdown",
   "metadata": {},
   "source": [
    "How do you think the residuals will look now?  First jot some notes to yourself on a piece of paper and then plot them below."
   ]
  },
  {
   "cell_type": "code",
   "execution_count": null,
   "metadata": {},
   "outputs": [],
   "source": [
    "# (4 points)"
   ]
  },
  {
   "cell_type": "markdown",
   "metadata": {},
   "source": [
    "Do they look different from what you expected?  How or how not?"
   ]
  },
  {
   "cell_type": "markdown",
   "metadata": {},
   "source": [
    "(2 points)\n"
   ]
  },
  {
   "cell_type": "markdown",
   "metadata": {},
   "source": [
    "Based on the residuals, would you say the model fits the data well?"
   ]
  },
  {
   "cell_type": "markdown",
   "metadata": {},
   "source": [
    " (1 point)\n"
   ]
  },
  {
   "cell_type": "markdown",
   "metadata": {},
   "source": [
    "Let's try a 3rd order polynomial. Again, plot the whole range of data, and show your fitted 3rd order polynomial on top of it. _No more than 6 lines of code, including axis labels._"
   ]
  },
  {
   "cell_type": "code",
   "execution_count": null,
   "metadata": {},
   "outputs": [],
   "source": [
    "# (5 points)\n"
   ]
  },
  {
   "cell_type": "markdown",
   "metadata": {},
   "source": [
    "Did you notice that the 3rd order polynomial does a better job of taking care of the data at large distance?  (rhetorical question). Please again plot the velocity residuals."
   ]
  },
  {
   "cell_type": "code",
   "execution_count": null,
   "metadata": {},
   "outputs": [],
   "source": [
    "# (4 points)\n"
   ]
  },
  {
   "cell_type": "markdown",
   "metadata": {},
   "source": [
    "Comment on whether those residuals indicate that this model is a better fit to the data."
   ]
  },
  {
   "cell_type": "markdown",
   "metadata": {},
   "source": [
    "(1 point)"
   ]
  },
  {
   "cell_type": "markdown",
   "metadata": {},
   "source": [
    "We now have an equation that tells us the relationship between velocity and distance anywhere in the universe. The equation is:\n",
    "$$\n",
    "velocity = p[0]D^3 + p[1]D^2 + p[2]D + p[3]\n",
    "$$\n",
    "where $p$ is the array of parameters that the polyfit function returned.\n",
    "\n",
    "The tangent to that function is Hubble's \"constant\" anywhere in the universe.  Please recall that the tangent to any function is its derivative.\n",
    "\n",
    "One fun thing about a polynomial is that you can easily take the derivative of it.\n",
    "\n",
    "In the cell below, write the derivative of velocity.  "
   ]
  },
  {
   "cell_type": "markdown",
   "metadata": {},
   "source": [
    " (2 points)"
   ]
  },
  {
   "cell_type": "markdown",
   "metadata": {},
   "source": [
    "So that function $\\frac{dv}{dD}$ that you wrote out above is actually the value of Hubble's \"constant\" anywhere in the universe.   Call it H (for Hubble) and plot H as a function of D.  You already know what you expect it to look like vaguely, right?  It should be larger for small distances, and smaller for large distances.  Make sure to label the axes of your plots with the appropriate units. _Hint: This should only take 4 lines of code, including axis labels._"
   ]
  },
  {
   "cell_type": "code",
   "execution_count": null,
   "metadata": {},
   "outputs": [],
   "source": [
    "# (3 points)\n"
   ]
  },
  {
   "cell_type": "markdown",
   "metadata": {},
   "source": [
    "That's an awesome plot!!   Before I make you comment on it, let's put the x-axis into some more useful units. Instead of distance, astronomers like to think in terms of \"look-back time\".  In other words, how far back in time are we looking when we look at 8000 Mpc\n",
    "(for example)?  This turns out to be more complicated that just converting distances into light years, because of the expanding and accelerating universe. There's a library called \"astropy\" that we can use to do this work for us. It turns out that in order to calculate lookback time you have to choose which version of the universe you believe.  For our purposes we will choose the parameters determined by Planck13.  Planck is a satellite that measured the temperature and polarization of the Cosmic Microwave Background. \n",
    "\n",
    "http://docs.astropy.org/en/stable/cosmology/\n",
    "\n",
    "(You don't necessarily need to look at that page, but I include it in case you are curious.)\n",
    "\n",
    "First import the library:"
   ]
  },
  {
   "cell_type": "code",
   "execution_count": null,
   "metadata": {},
   "outputs": [],
   "source": [
    "from astropy.cosmology import Planck13  # Planck 2013\n",
    "from astropy import units as u # a pretty fancy way\n",
    "# keeping track of units\n",
    "from astropy.cosmology import z_at_value\n",
    "# And here is how you calculate the lookback time at \n",
    "# redshift 2\n",
    "Planck13.lookback_time(2)"
   ]
  },
  {
   "cell_type": "markdown",
   "metadata": {},
   "source": [
    "So the answer above says that at a redshift of 2 the lookback time is 10.5 Gyr (or 10.5 billion years.) The universe is only 14 billion years old, so this is most of the way back."
   ]
  },
  {
   "cell_type": "code",
   "execution_count": null,
   "metadata": {},
   "outputs": [],
   "source": [
    "# Now we need to find the value of the redshift z at each of \n",
    "# our distance moduli, allSN.mu.\n",
    "# I included all this here in case you're interested, but feel\n",
    "# free to skip to the last line of this cell where I calculate\n",
    "# the lookback time for each of our supernovae.\n",
    "\n",
    "# To do this I'm using a linear interpolation function \n",
    "# using suggestions I found here:\n",
    "# https://het.as.utexas.edu/HET/Software/Astropy-0.4.2/...\n",
    "#          api/astropy.cosmology.z_at_value.html\n",
    "\n",
    "# Create a grid of z's logarithmically distributed\n",
    "# that covers the redshift range from 0.02 to 2\n",
    "zgrid = np.logspace(np.log10(0.02), np.log10(2))\n",
    "# Calculate all the distance moduli for all the z's in the grid\n",
    "Dgrid = Planck13.distmod(zgrid)\n",
    "# Finally interpolate to find the redshift at each distance modulus:\n",
    "zvals = np.interp(allSN.mu, Dgrid.value, zgrid)\n",
    "# Now to find the lookback time, we put those \n",
    "# redshift values into\n",
    "# the lookback_time attribute of our chosen cosmology\n",
    "lookback = Planck13.lookback_time(zvals)"
   ]
  },
  {
   "cell_type": "markdown",
   "metadata": {},
   "source": [
    "And now make the sample plot as above, but this time plot Hubble's \"constant\" vs lookback time. Be sure to label your axes, including units. (3 lines of code, including axis labels.)"
   ]
  },
  {
   "cell_type": "code",
   "execution_count": null,
   "metadata": {},
   "outputs": [],
   "source": [
    "# (2 points)\n"
   ]
  },
  {
   "cell_type": "markdown",
   "metadata": {},
   "source": [
    "Based on your graph, what was Hubble's constant (with appropriate units) 2 billion years ago? 6 billion years ago?  10 billion years ago?"
   ]
  },
  {
   "cell_type": "markdown",
   "metadata": {},
   "source": [
    " (3 points)\n"
   ]
  },
  {
   "cell_type": "markdown",
   "metadata": {},
   "source": [
    "Here's a good question that you might have:\n",
    "\n",
    "Why didn't we just use our redshift values from the table to find the lookback time?\n",
    "\n",
    "You can do that!  You just say:\n",
    "\n",
    "lookback = Planck13.lookback_time(allSN.redshift)\n",
    "\n",
    "Feel free to try that, but I'm not assigning it.\n",
    "\n",
    "It turns out this gives a much more scattered plot than the way we just did it - by using the distance moduli to get the lookback\n",
    "time.  In other words, our distance measurements are more accurate than our redshift measurements, so it was better to base lookback time on distance."
   ]
  },
  {
   "cell_type": "markdown",
   "metadata": {},
   "source": [
    "## Caveats\n",
    "We swept some things under the rug in order to keep this lab from going off the rails. (Sorry for mixing metaphors.)\n",
    "\n",
    "- Now that we know that Hubble's 'constant' is changing, it turns out that we actually needed to do an integral to get the distance:\n",
    "\n",
    "$$\n",
    "d= c(1 + z)\\int_0^z \\frac{du}{H(u)}\n",
    "$$\n",
    "\n",
    "Using that expression for distance would subsequently change the value of Hubble's \"constant\" significantly in the early universe. Our analysis showed that it changed by almost a factor of 10. In more rigorous calculations it only changes by about a factor of 2. However, the calculation we did maintains the character of the effect very well.\n",
    "\n",
    "- You may have noticed that we didn't even get the accepted value of the current Hubble's constant correct. It is about 70 km/sec per Mpc right now. (There's actually a controversy over whether it's 68 or 72 km/sec per Mpc. From looking at supernovae (as we did here) researchers get 72 km/sec per Mpc.  From looking at the anisotropy in the microwave background researchers get 68 km/sec per Mpc.)  The reason we didn't get 70 km/sec is that Riess and colleagues don't care about the intrinsic brightness of the supernovae they are using as standard candles. In other words, even though they are using a standard candle to do all this analysis, the actual brightness of the standard candle doesn't enter into their calculations. So toward the beginning of the lab when I wrote the relationship between distance and distance modulus, \n",
    "$$\n",
    "d = 10^{\\frac{\\mu_0}{5} + 1}\n",
    "$$\n",
    "the $\\mu_0$ has an arbitrary but constant offset in it. Feel free to play around with this and see how it changes your values of Hubble's constant. (Just for fun. Not required.) I found that adding -.75 to $\\mu_0$ got me closer to the modern value of Hubble's constant."
   ]
  },
  {
   "cell_type": "markdown",
   "metadata": {},
   "source": [
    "# Three last very important questions\n",
    "Sometimes doing labs with a lot of challenging instructions like this one, you lose the forest for the trees.  Take a moment and try to see the forest and write it down here.  More specifically, answer these questions:\n",
    "(3 points each)\n",
    "- Why are supernovae useful for measuring the history of our universe?\n",
    "- What is Hubble's law, and what does it mean that we measured the \"constant\" to be changing over time?\n",
    "- Explain in words why we fit a plot of velocity vs distance to a polynomial, and then took the derivative of that polynomial to find Hubble's 'constant' as a function of time."
   ]
  },
  {
   "cell_type": "markdown",
   "metadata": {},
   "source": [
    "(3 points for each)"
   ]
  },
  {
   "cell_type": "markdown",
   "metadata": {},
   "source": [
    "# Congratulations\n",
    "You have finished lab #3. You've learned a lot of astronomy and a lot of programming. If it seems like your brain hurts that's because it's growing. "
   ]
  }
 ],
 "metadata": {
  "kernelspec": {
   "display_name": "Python 3",
   "language": "python",
   "name": "python3"
  },
  "language_info": {
   "codemirror_mode": {
    "name": "ipython",
    "version": 3
   },
   "file_extension": ".py",
   "mimetype": "text/x-python",
   "name": "python",
   "nbconvert_exporter": "python",
   "pygments_lexer": "ipython3",
   "version": "3.5.2"
  }
 },
 "nbformat": 4,
 "nbformat_minor": 2
}
