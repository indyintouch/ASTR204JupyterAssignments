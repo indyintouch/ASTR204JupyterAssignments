{
 "cells": [
  {
   "cell_type": "markdown",
   "metadata": {},
   "source": [
    "# Stellar Data Worksheet #\n",
    "\n",
    "We can understand the empirical scaling relations seen between stars mass, luminosity and radius quite well by modelling stars. In this python worksheet you will plot these data after reading them in from a file. \n",
    "\n",
    "To learn more about the python in this Notebook see: \n",
    "* Astropy Tutorial on file read in: http://learn.astropy.org/rst-tutorials/plot-catalog.html\n",
    "* Astropy Tutorial on fitting data: http://learn.astropy.org/rst-tutorials/Models-Quick-Fit.html\n",
    "* Astropy Tutorial on Constants and Units: http://learn.astropy.org/rst-tutorials/quantities.html"
   ]
  },
  {
   "cell_type": "code",
   "execution_count": 43,
   "metadata": {},
   "outputs": [],
   "source": [
    "#It's good practice in coding to keep all your input statements at the top of the code/notebook. \n",
    "#You need to run this before the code below will run\n",
    " \n",
    "#Import numpy (lots of useful math stuff)\n",
    "import numpy as np\n",
    "\n",
    "# Set up matplotlib\n",
    "import matplotlib.pyplot as plt\n",
    "%matplotlib inline\n",
    "\n",
    "#Astropy file input/output help\n",
    "from astropy.io import ascii\n",
    "\n",
    "#Astropy model fitting\n",
    "from astropy.modeling import models, fitting\n"
   ]
  },
  {
   "cell_type": "code",
   "execution_count": 36,
   "metadata": {},
   "outputs": [
    {
     "data": {
      "text/html": [
       "&lt;Table length=20&gt;\n",
       "<table id=\"table139741437737896\" class=\"table-striped table-bordered table-condensed\">\n",
       "<thead><tr><th>Spectral Type</th><th>Te</th><th>L</th><th>R</th><th>M</th></tr></thead>\n",
       "<thead><tr><th>str3</th><th>int64</th><th>float64</th><th>float64</th><th>float64</th></tr></thead>\n",
       "<tr><td>O5</td><td>44500</td><td>790000.0</td><td>15.0</td><td>60.0</td></tr>\n",
       "<tr><td>O6</td><td>41000</td><td>430000.0</td><td>13.0</td><td>37.0</td></tr>\n",
       "<tr><td>O8</td><td>35800</td><td>170000.0</td><td>11.0</td><td>23.0</td></tr>\n",
       "<tr><td>B0</td><td>30000</td><td>52000.0</td><td>8.4</td><td>17.5</td></tr>\n",
       "<tr><td>B3</td><td>18700</td><td>1900.0</td><td>4.2</td><td>7.6</td></tr>\n",
       "<tr><td>B5</td><td>15400</td><td>830.0</td><td>4.1</td><td>5.9</td></tr>\n",
       "<tr><td>B8</td><td>11900</td><td>180.0</td><td>3.2</td><td>3.8</td></tr>\n",
       "<tr><td>A0</td><td>9520</td><td>54.0</td><td>2.7</td><td>2.9</td></tr>\n",
       "<tr><td>A5</td><td>8200</td><td>14.0</td><td>1.9</td><td>2.0</td></tr>\n",
       "<tr><td>F0</td><td>7200</td><td>6.5</td><td>1.6</td><td>1.6</td></tr>\n",
       "<tr><td>F5</td><td>6440</td><td>2.9</td><td>1.4</td><td>1.4</td></tr>\n",
       "<tr><td>G0</td><td>6030</td><td>1.5</td><td>1.1</td><td>1.05</td></tr>\n",
       "<tr><td>Sun</td><td>5780</td><td>1.0</td><td>1.0</td><td>1.0</td></tr>\n",
       "<tr><td>G5</td><td>5770</td><td>0.79</td><td>0.89</td><td>0.92</td></tr>\n",
       "<tr><td>K0</td><td>5250</td><td>0.42</td><td>0.79</td><td>0.79</td></tr>\n",
       "<tr><td>K5</td><td>4350</td><td>0.15</td><td>0.68</td><td>0.67</td></tr>\n",
       "<tr><td>M0</td><td>3850</td><td>0.077</td><td>0.63</td><td>0.51</td></tr>\n",
       "<tr><td>M2</td><td>3580</td><td>0.045</td><td>0.55</td><td>0.4</td></tr>\n",
       "<tr><td>M5</td><td>3240</td><td>0.011</td><td>0.33</td><td>0.21</td></tr>\n",
       "<tr><td>M8</td><td>2640</td><td>0.0012</td><td>0.17</td><td>0.06</td></tr>\n",
       "</table>"
      ],
      "text/plain": [
       "<Table length=20>\n",
       "Spectral Type   Te     L        R       M   \n",
       "     str3     int64 float64  float64 float64\n",
       "------------- ----- -------- ------- -------\n",
       "           O5 44500 790000.0    15.0    60.0\n",
       "           O6 41000 430000.0    13.0    37.0\n",
       "           O8 35800 170000.0    11.0    23.0\n",
       "           B0 30000  52000.0     8.4    17.5\n",
       "           B3 18700   1900.0     4.2     7.6\n",
       "           B5 15400    830.0     4.1     5.9\n",
       "           B8 11900    180.0     3.2     3.8\n",
       "           A0  9520     54.0     2.7     2.9\n",
       "           A5  8200     14.0     1.9     2.0\n",
       "           F0  7200      6.5     1.6     1.6\n",
       "           F5  6440      2.9     1.4     1.4\n",
       "           G0  6030      1.5     1.1    1.05\n",
       "          Sun  5780      1.0     1.0     1.0\n",
       "           G5  5770     0.79    0.89    0.92\n",
       "           K0  5250     0.42    0.79    0.79\n",
       "           K5  4350     0.15    0.68    0.67\n",
       "           M0  3850    0.077    0.63    0.51\n",
       "           M2  3580    0.045    0.55     0.4\n",
       "           M5  3240    0.011    0.33    0.21\n",
       "           M8  2640   0.0012    0.17    0.06"
      ]
     },
     "execution_count": 36,
     "metadata": {},
     "output_type": "execute_result"
    }
   ],
   "source": [
    "#Load the data 'StellarData.csv'\n",
    "#Notice this is a different read in method to what you saw in HW1, and produces much more \n",
    "#nicely formatted input. \n",
    "#Typing \"tbl\" outputs a formatted table\n",
    "tbl = ascii.read(\"StellarData.csv\")\n",
    "tbl"
   ]
  },
  {
   "cell_type": "code",
   "execution_count": 6,
   "metadata": {},
   "outputs": [
    {
     "data": {
      "text/plain": [
       "['Spectral Type', 'Te', 'L', 'R', 'M']"
      ]
     },
     "execution_count": 6,
     "metadata": {},
     "output_type": "execute_result"
    }
   ],
   "source": [
    "#Typing tbl.colnames lists the column names\n",
    "tbl.colnames"
   ]
  },
  {
   "cell_type": "markdown",
   "metadata": {},
   "source": [
    "## Luminosity Mass Relation ##\n",
    "\n",
    "In the cells below I will plot luminosity agains mass from the Stellar Data Table, and fit a relation of the form $L/L_\\odot = (M/M_\\odot)^\\alpha$. The best way to do this is going to be to make a $\\log - \\log$ plot, as then we will have $\\log(L/L_\\odot) = \\alpha \\log(M/M_\\odot)$, which is in the form $y=ax$ which is a straight line..."
   ]
  },
  {
   "cell_type": "code",
   "execution_count": 37,
   "metadata": {},
   "outputs": [
    {
     "data": {
      "text/plain": [
       "Text(0,0.5,'$L/L_\\\\odot$')"
      ]
     },
     "execution_count": 37,
     "metadata": {},
     "output_type": "execute_result"
    },
    {
     "data": {
      "image/png": "[encoded data removed]",
      "text/plain": [
       "<matplotlib.figure.Figure at 0x7f1816c5f5f8>"
      ]
     },
     "metadata": {},
     "output_type": "display_data"
    }
   ],
   "source": [
    "#Take the log of the values\n",
    "x  = np.log10(tbl['M'])\n",
    "y  = np.log10(tbl['L'])\n",
    "\n",
    "plt.scatter(x,y) # plot logM vs. logL\n",
    "plt.xlabel(\"$M/M_\\odot$\", fontsize=20)\n",
    "plt.ylabel(\"$L/L_\\odot$\", fontsize=20)"
   ]
  },
  {
   "cell_type": "code",
   "execution_count": 38,
   "metadata": {},
   "outputs": [
    {
     "name": "stdout",
     "output_type": "stream",
     "text": [
      "Model: Linear1D\n",
      "Inputs: ('x',)\n",
      "Outputs: ('y',)\n",
      "Model set size: 1\n",
      "Parameters:\n",
      "          slope            intercept     \n",
      "    ----------------- -------------------\n",
      "    3.357929334861819 0.20384802030690458\n"
     ]
    }
   ],
   "source": [
    "#Jupyter Saves variables between cells, so as long as the cell in which x and y are defined as \n",
    "#logL and logM is above this, they will remain defined as those. \n",
    "\n",
    "#Use a linar model (straightline fit). The intercept should be 0,0 (the position of the Sun!)\n",
    "model = models.Linear1D()\n",
    "\n",
    "#Use linear least squares fitting\n",
    "fitter = fitting.LinearLSQFitter()\n",
    "\n",
    "best_fit = fitter(model, x, y)\n",
    "print(best_fit)"
   ]
  },
  {
   "cell_type": "markdown",
   "metadata": {},
   "source": [
    "So this suggests a relation of the form $L \\propto M^{3.4}$ works pretty well for main sequence stars\n"
   ]
  },
  {
   "cell_type": "code",
   "execution_count": 40,
   "metadata": {},
   "outputs": [
    {
     "data": {
      "text/plain": [
       "<matplotlib.legend.Legend at 0x7f1816b53278>"
      ]
     },
     "execution_count": 40,
     "metadata": {},
     "output_type": "execute_result"
    },
    {
     "data": {
      "image/png": "[encoded data removed]",
      "text/plain": [
       "<matplotlib.figure.Figure at 0x7f1816ba9048>"
      ]
     },
     "metadata": {},
     "output_type": "display_data"
    }
   ],
   "source": [
    "#As a final step we can overplot this on the data. \n",
    "#best_fit(x) provides the value of the function at any x value\n",
    "\n",
    "#define a vector which goes from -1 to in steps of 0.1. \n",
    "xplot=[-1,2,0.1]\n",
    "#Plot\n",
    "plt.scatter(x,y,label='Stellar data') # plot logM vs. logL\n",
    "plt.plot(xplot, best_fit(xplot), color='g', linewidth=3,label='Best Fit')\n",
    "plt.xlabel(\"$M/M_\\odot$\", fontsize=20)\n",
    "plt.ylabel(\"$L/L_\\odot$\", fontsize=20)\n",
    "plt.legend()\n"
   ]
  },
  {
   "cell_type": "markdown",
   "metadata": {},
   "source": [
    "# Your Turn  - plotting and fitting#\n",
    "\n",
    "## Mass-Radius Relation ##\n",
    "Now plot $\\log R/R_\\odot$ versus $\\log (M/M_\\odot)$ for the main sequence stars listed in the Stellar Data sheet. If you assume the relation $R/R\\odot= (M/M\\odot)^\\beta$, then what value of $\\beta$ best fits the plotted data? Make sure to make a plot showing both the fit and data."
   ]
  },
  {
   "cell_type": "code",
   "execution_count": null,
   "metadata": {},
   "outputs": [],
   "source": []
  },
  {
   "cell_type": "markdown",
   "metadata": {},
   "source": [
    "## Central Temperature and Luminosity ##\n",
    "Now make use of the constant density approximation which allowed use to derive an equation for the central temperature in a star, estimate the central temperature of the stars (you may assume they all have the same composition as the Sun, i.e. $\\mu = 0.6$). Make a plot of the central temperature you calculate against $\\log (L/L_/odot)$ and comment on the range of luminisoties and the range of temperatures. \n",
    "\n",
    "Astropy has something really helpful here = constants.... so I've got things started by importing some that you will need. \n",
    "\n",
    "HINT: pay close attention to units, and to your brackets when coding the formula. \n",
    "\n"
   ]
  },
  {
   "cell_type": "code",
   "execution_count": 42,
   "metadata": {},
   "outputs": [
    {
     "name": "stdout",
     "output_type": "stream",
     "text": [
      "  Name   = Gravitational constant\n",
      "  Value  = 6.67408e-11\n",
      "  Uncertainty  = 3.1e-15\n",
      "  Unit  = m3 / (kg s2)\n",
      "  Reference = CODATA 2014   Name   = Boltzmann constant\n",
      "  Value  = 1.38064852e-23\n",
      "  Uncertainty  = 7.9e-30\n",
      "  Unit  = J / K\n",
      "  Reference = CODATA 2014   Name   = Proton mass\n",
      "  Value  = 1.672621898e-27\n",
      "  Uncertainty  = 2.1e-35\n",
      "  Unit  = kg\n",
      "  Reference = CODATA 2014   Name   = Solar mass\n",
      "  Value  = 1.9884754153381438e+30\n",
      "  Uncertainty  = 9.236140093538353e+25\n",
      "  Unit  = kg\n",
      "  Reference = IAU 2015 Resolution B 3 + CODATA 2014   Name   = Nominal solar radius\n",
      "  Value  = 695700000.0\n",
      "  Uncertainty  = 0.0\n",
      "  Unit  = m\n",
      "  Reference = IAU 2015 Resolution B 3\n"
     ]
    }
   ],
   "source": [
    "from astropy.constants import G, k_B, m_p, M_sun, R_sun\n",
    "print(G, k_B, m_p, M_sun, R_sun)"
   ]
  },
  {
   "cell_type": "code",
   "execution_count": null,
   "metadata": {},
   "outputs": [],
   "source": []
  }
 ],
 "metadata": {
  "kernelspec": {
   "display_name": "Python 3",
   "language": "python",
   "name": "python3"
  },
  "language_info": {
   "codemirror_mode": {
    "name": "ipython",
    "version": 3
   },
   "file_extension": ".py",
   "mimetype": "text/x-python",
   "name": "python",
   "nbconvert_exporter": "python",
   "pygments_lexer": "ipython3",
   "version": "3.5.2"
  }
 },
 "nbformat": 4,
 "nbformat_minor": 2
}
