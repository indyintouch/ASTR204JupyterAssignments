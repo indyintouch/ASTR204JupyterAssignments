{
 "cells": [
  {
   "cell_type": "markdown",
   "metadata": {},
   "source": [
    "# Stellar Data Worksheet #\n",
    "\n",
    "We can understand the empirical scaling relations seen between stars mass, luminosity and radius quite well by modelling stars. In this python worksheet you will plot these data after reading them in from a file. \n",
    "\n",
    "To learn more about the python in this Notebook see: \n",
    "* Astropy Tutorial on file read in: http://learn.astropy.org/rst-tutorials/plot-catalog.html\n",
    "* Astropy Tutorial on fitting data: http://learn.astropy.org/rst-tutorials/Models-Quick-Fit.html\n",
    "* Astropy Tutorial on Constants and Units: http://learn.astropy.org/rst-tutorials/quantities.html\n",
    "\n",
    "**You need the file ``Stellardata.csv`` to be in the same folder as this Notebook for this to work.** "
   ]
  },
  {
   "cell_type": "code",
   "execution_count": 2,
   "metadata": {},
   "outputs": [],
   "source": [
    "#It's good practice in coding to keep all your input statements at the top of the code/notebook. \n",
    "#You need to run this before the code below will run\n",
    " \n",
    "#Import numpy (lots of useful math stuff)\n",
    "import numpy as np\n",
    "\n",
    "# Set up matplotlib\n",
    "import matplotlib.pyplot as plt\n",
    "%matplotlib inline\n",
    "\n",
    "#Astropy file input/output help\n",
    "from astropy.io import ascii\n",
    "\n",
    "#Astropy model fitting\n",
    "from astropy.modeling import models, fitting\n"
   ]
  },
  {
   "cell_type": "code",
   "execution_count": 3,
   "metadata": {},
   "outputs": [
    {
     "data": {
      "text/html": [
       "<div><i>Table length=20</i>\n",
       "<table id=\"table140105184943408\" class=\"table-striped table-bordered table-condensed\">\n",
       "<thead><tr><th>Spectral Type</th><th>Te</th><th>L</th><th>R</th><th>M</th></tr></thead>\n",
       "<thead><tr><th>str3</th><th>int64</th><th>float64</th><th>float64</th><th>float64</th></tr></thead>\n",
       "<tr><td>O5</td><td>44500</td><td>790000.0</td><td>15.0</td><td>60.0</td></tr>\n",
       "<tr><td>O6</td><td>41000</td><td>430000.0</td><td>13.0</td><td>37.0</td></tr>\n",
       "<tr><td>O8</td><td>35800</td><td>170000.0</td><td>11.0</td><td>23.0</td></tr>\n",
       "<tr><td>B0</td><td>30000</td><td>52000.0</td><td>8.4</td><td>17.5</td></tr>\n",
       "<tr><td>B3</td><td>18700</td><td>1900.0</td><td>4.2</td><td>7.6</td></tr>\n",
       "<tr><td>B5</td><td>15400</td><td>830.0</td><td>4.1</td><td>5.9</td></tr>\n",
       "<tr><td>B8</td><td>11900</td><td>180.0</td><td>3.2</td><td>3.8</td></tr>\n",
       "<tr><td>A0</td><td>9520</td><td>54.0</td><td>2.7</td><td>2.9</td></tr>\n",
       "<tr><td>A5</td><td>8200</td><td>14.0</td><td>1.9</td><td>2.0</td></tr>\n",
       "<tr><td>F0</td><td>7200</td><td>6.5</td><td>1.6</td><td>1.6</td></tr>\n",
       "<tr><td>F5</td><td>6440</td><td>2.9</td><td>1.4</td><td>1.4</td></tr>\n",
       "<tr><td>G0</td><td>6030</td><td>1.5</td><td>1.1</td><td>1.05</td></tr>\n",
       "<tr><td>Sun</td><td>5780</td><td>1.0</td><td>1.0</td><td>1.0</td></tr>\n",
       "<tr><td>G5</td><td>5770</td><td>0.79</td><td>0.89</td><td>0.92</td></tr>\n",
       "<tr><td>K0</td><td>5250</td><td>0.42</td><td>0.79</td><td>0.79</td></tr>\n",
       "<tr><td>K5</td><td>4350</td><td>0.15</td><td>0.68</td><td>0.67</td></tr>\n",
       "<tr><td>M0</td><td>3850</td><td>0.077</td><td>0.63</td><td>0.51</td></tr>\n",
       "<tr><td>M2</td><td>3580</td><td>0.045</td><td>0.55</td><td>0.4</td></tr>\n",
       "<tr><td>M5</td><td>3240</td><td>0.011</td><td>0.33</td><td>0.21</td></tr>\n",
       "<tr><td>M8</td><td>2640</td><td>0.0012</td><td>0.17</td><td>0.06</td></tr>\n",
       "</table></div>"
      ],
      "text/plain": [
       "<Table length=20>\n",
       "Spectral Type   Te     L        R       M   \n",
       "     str3     int64 float64  float64 float64\n",
       "------------- ----- -------- ------- -------\n",
       "           O5 44500 790000.0    15.0    60.0\n",
       "           O6 41000 430000.0    13.0    37.0\n",
       "           O8 35800 170000.0    11.0    23.0\n",
       "           B0 30000  52000.0     8.4    17.5\n",
       "           B3 18700   1900.0     4.2     7.6\n",
       "           B5 15400    830.0     4.1     5.9\n",
       "           B8 11900    180.0     3.2     3.8\n",
       "           A0  9520     54.0     2.7     2.9\n",
       "           A5  8200     14.0     1.9     2.0\n",
       "           F0  7200      6.5     1.6     1.6\n",
       "           F5  6440      2.9     1.4     1.4\n",
       "           G0  6030      1.5     1.1    1.05\n",
       "          Sun  5780      1.0     1.0     1.0\n",
       "           G5  5770     0.79    0.89    0.92\n",
       "           K0  5250     0.42    0.79    0.79\n",
       "           K5  4350     0.15    0.68    0.67\n",
       "           M0  3850    0.077    0.63    0.51\n",
       "           M2  3580    0.045    0.55     0.4\n",
       "           M5  3240    0.011    0.33    0.21\n",
       "           M8  2640   0.0012    0.17    0.06"
      ]
     },
     "execution_count": 3,
     "metadata": {},
     "output_type": "execute_result"
    }
   ],
   "source": [
    "#Load the data 'StellarData.csv'. This file needs to be in the same folder as this notebook for this cell to work\n",
    "#If you get a file readin error, check you have put the file in the correct location. \n",
    "#Notice this is a different read in method to what you saw in HW1, and produces much more \n",
    "#nicely formatted input. \n",
    "#Typing \"tbl\" outputs a formatted table\n",
    "tbl = ascii.read(\"StellarData.csv\")\n",
    "tbl"
   ]
  },
  {
   "cell_type": "markdown",
   "metadata": {},
   "source": [
    "MARKDOWN YOU SHOULD EDIT: Make a comment on the range of temperature luminosity, radius and mass (i.e. the factor needed to multiply the lowest to reach the highest in each category). "
   ]
  },
  {
   "cell_type": "code",
   "execution_count": 4,
   "metadata": {},
   "outputs": [
    {
     "data": {
      "text/plain": [
       "['Spectral Type', 'Te', 'L', 'R', 'M']"
      ]
     },
     "execution_count": 4,
     "metadata": {},
     "output_type": "execute_result"
    }
   ],
   "source": [
    "#Typing tbl.colnames lists the column names. This is useful to know to be able to use the data in plots. \n",
    "tbl.colnames"
   ]
  },
  {
   "cell_type": "markdown",
   "metadata": {},
   "source": [
    "## Luminosity Mass Relation ##\n",
    "\n",
    "In the cells below I will plot luminosity agains mass from the Stellar Data Table, and fit a relation of the form $L/L_\\odot = (M/M_\\odot)^\\alpha$. The best way to do this is going to be to make a $\\log - \\log$ plot, as then we will have $\\log(L/L_\\odot) = \\alpha \\log(M/M_\\odot)$, which is in the form $y=ax$ which is a straight line...\n",
    "\n",
    "TODO: Please change the colour of the points on the plot"
   ]
  },
  {
   "cell_type": "code",
   "execution_count": 5,
   "metadata": {},
   "outputs": [
    {
     "data": {
      "text/plain": [
       "Text(0, 0.5, '$\\\\log (L/L_\\\\odot)$')"
      ]
     },
     "execution_count": 5,
     "metadata": {},
     "output_type": "execute_result"
    },
    {
     "data": {
      "image/png": "[encoded data removed]",
      "text/plain": [
       "<Figure size 432x288 with 1 Axes>"
      ]
     },
     "metadata": {
      "needs_background": "light"
     },
     "output_type": "display_data"
    }
   ],
   "source": [
    "#Take the log of the values\n",
    "x  = np.log10(tbl['M'])\n",
    "y  = np.log10(tbl['L'])\n",
    "\n",
    "plt.scatter(x,y) # plot logM vs. logL\n",
    "plt.xlabel(\"$\\log (M/M_\\odot)$\", fontsize=20)\n",
    "plt.ylabel(\"$\\log (L/L_\\odot)$\", fontsize=20)"
   ]
  },
  {
   "cell_type": "code",
   "execution_count": 7,
   "metadata": {},
   "outputs": [
    {
     "name": "stdout",
     "output_type": "stream",
     "text": [
      "Model: Linear1D\n",
      "Inputs: ('x',)\n",
      "Outputs: ('y',)\n",
      "Model set size: 1\n",
      "Parameters:\n",
      "          slope            intercept     \n",
      "    ----------------- -------------------\n",
      "    3.357929334861821 0.20384802030690535\n"
     ]
    }
   ],
   "source": [
    "#Jupyter Saves variables between cells, so as long as the cell in which x and y are defined as \n",
    "#logL and logM is above this, they will remain defined as those. \n",
    "\n",
    "#Python has a lot of functions/tasks already coded. When you have to fit a line, or make a specific plot, \n",
    "#you should ALWAYS look for existing functions to do this. \n",
    "\n",
    "#E.g. the below will specify we wish to fit a linar model (straightline fit). \n",
    "#The intercept should be 0,0 (the position of the Sun!)\n",
    "model = models.Linear1D()\n",
    "\n",
    "#Use linear least squares fitting routine\n",
    "#Notice that these modules are loaded in the first cell of this Notebook. \n",
    "fitter = fitting.LinearLSQFitter()\n",
    "\n",
    "best_fit = fitter(model, x, y)\n",
    "print(best_fit)"
   ]
  },
  {
   "cell_type": "markdown",
   "metadata": {},
   "source": [
    "MARKDOWN YOU SHOULD EDIT: Please write in words what relationship this implies of the form $L \\propto M^{\\alpha}$ (i.e. what is the value of $\\alpha$)."
   ]
  },
  {
   "cell_type": "markdown",
   "metadata": {},
   "source": [
    "TODO: in the plot below make the data points the same colour you chose above, and also change the colour of the line."
   ]
  },
  {
   "cell_type": "code",
   "execution_count": 8,
   "metadata": {
    "scrolled": true
   },
   "outputs": [
    {
     "data": {
      "text/plain": [
       "<matplotlib.legend.Legend at 0x7f6cc7ac2040>"
      ]
     },
     "execution_count": 8,
     "metadata": {},
     "output_type": "execute_result"
    },
    {
     "data": {
      "image/png": "[encoded data removed]",
      "text/plain": [
       "<Figure size 432x288 with 1 Axes>"
      ]
     },
     "metadata": {
      "needs_background": "light"
     },
     "output_type": "display_data"
    }
   ],
   "source": [
    "#As a final step we can overplot this on the data. \n",
    "#best_fit(x) provides the value of the function at any x value\n",
    "\n",
    "#define an array which goes from -1 to in steps of 0.1 which we will use in the plotting.\n",
    "#best_fit(xplot) will calculate the respective \"y\" values to plot from the fit.\n",
    "\n",
    "xplot=[-1,2,0.1]\n",
    "#Plot\n",
    "plt.scatter(x,y,label='Stellar data') # plot logM vs. logL\n",
    "plt.plot(xplot, best_fit(xplot), color='g', linewidth=3,label='Best Fit')\n",
    "plt.xlabel(\"$M/M_\\odot$\", fontsize=20)\n",
    "plt.ylabel(\"$L/L_\\odot$\", fontsize=20)\n",
    "plt.legend()\n"
   ]
  },
  {
   "cell_type": "markdown",
   "metadata": {},
   "source": [
    "# Your Turn  - plotting and fitting#\n",
    "\n",
    "## Mass-Radius Relation ##\n",
    "Now copy and modify the code above to plot $\\log R/R_\\odot$ versus $\\log (M/M_\\odot)$ for the main sequence stars listed in the Stellar Data sheet. If you assume the relation $R/R\\odot= (M/M\\odot)^\\beta$, then what value of $\\beta$ best fits the plotted data? Make sure to make a plot showing both the fit and data.\n",
    "\n",
    "If you need more cells, you can using \"Insert\" in the menu above to add them. Please write an answer for the value of $\\beta$ into a markdown cell.  "
   ]
  },
  {
   "cell_type": "code",
   "execution_count": null,
   "metadata": {},
   "outputs": [],
   "source": []
  },
  {
   "cell_type": "markdown",
   "metadata": {},
   "source": [
    "## Central Temperature and Luminosity ##\n",
    "In this part you will make use of the constant density approximation (from in class) which allowed use to derive an equation for the central temperature in a star, estimate the central temperature of the stars (you may assume they all have the same composition as the Sun, i.e. $\\mu = 0.6$). \n",
    "\n",
    "You will need to write code which uses this equation to calculate the central temperatures from the mass and radius values in the table, and plot against $\\log (L/L_{\\odot})$ (also from the table). Comment once more on the comparison between the range of luminiosities and the range of central temperatures.  \n",
    "\n",
    "Astropy has something really helpful here = <a href=\"http://learn.astropy.org/rst-tutorials/quantities.html\">constants</a>.... so I've got things started by importing some that you will need. \n",
    "\n",
    "HINT: pay close attention to units, and to your brackets when coding the formula. \n",
    "\n",
    "HINT2: If you have never done algebra using arrays in Python before, there is an introduction to what this is all about in Section 2.3-2.5 of the <a href=\"https://prappleizer.github.io/index.html\">Python for Astronomers</a> book. It's probably easier than you think, and the TAs can help. \n",
    "\n"
   ]
  },
  {
   "cell_type": "code",
   "execution_count": 14,
   "metadata": {},
   "outputs": [
    {
     "name": "stdout",
     "output_type": "stream",
     "text": [
      "  Name   = Gravitational constant\n",
      "  Value  = 6.6743e-11\n",
      "  Uncertainty  = 1.5e-15\n",
      "  Unit  = m3 / (kg s2)\n",
      "  Reference = CODATA 2018   Name   = Boltzmann constant\n",
      "  Value  = 1.380649e-23\n",
      "  Uncertainty  = 0.0\n",
      "  Unit  = J / K\n",
      "  Reference = CODATA 2018   Name   = Proton mass\n",
      "  Value  = 1.67262192369e-27\n",
      "  Uncertainty  = 5.1e-37\n",
      "  Unit  = kg\n",
      "  Reference = CODATA 2018   Name   = Solar mass\n",
      "  Value  = 1.988409870698051e+30\n",
      "  Uncertainty  = 4.468805426856864e+25\n",
      "  Unit  = kg\n",
      "  Reference = IAU 2015 Resolution B 3 + CODATA 2018   Name   = Nominal solar radius\n",
      "  Value  = 695700000.0\n",
      "  Uncertainty  = 0.0\n",
      "  Unit  = m\n",
      "  Reference = IAU 2015 Resolution B 3\n",
      "To get just the value (but be careful about units!) use this:  6.6743e-11\n"
     ]
    }
   ],
   "source": [
    "from astropy.constants import G, k_B, m_p, M_sun, R_sun\n",
    "#You can get all kinds of information about where these values come from and the units by doing this. \n",
    "print(G, k_B, m_p, M_sun, R_sun)\n",
    "print('To get just the value (but be careful about units!) use this: ', G.value)"
   ]
  },
  {
   "cell_type": "code",
   "execution_count": null,
   "metadata": {},
   "outputs": [],
   "source": []
  }
 ],
 "metadata": {
  "kernelspec": {
   "display_name": "Python 3.8 (py38)",
   "language": "python",
   "name": "py38"
  },
  "language_info": {
   "codemirror_mode": {
    "name": "ipython",
    "version": 3
   },
   "file_extension": ".py",
   "mimetype": "text/x-python",
   "name": "python",
   "nbconvert_exporter": "python",
   "pygments_lexer": "ipython3",
   "version": "3.8.5"
  }
 },
 "nbformat": 4,
 "nbformat_minor": 2
}
